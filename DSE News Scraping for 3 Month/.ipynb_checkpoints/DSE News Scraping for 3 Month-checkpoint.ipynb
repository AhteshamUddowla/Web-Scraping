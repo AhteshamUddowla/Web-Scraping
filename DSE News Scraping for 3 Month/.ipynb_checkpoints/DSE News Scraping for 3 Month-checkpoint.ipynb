{
 "cells": [
  {
   "cell_type": "code",
   "execution_count": 12,
   "id": "ba3e66dc",
   "metadata": {},
   "outputs": [],
   "source": [
    "from requests_html import HTMLSession"
   ]
  },
  {
   "cell_type": "code",
   "execution_count": 13,
   "id": "eb633da5",
   "metadata": {},
   "outputs": [],
   "source": [
    "session = HTMLSession()"
   ]
  },
  {
   "cell_type": "code",
   "execution_count": 14,
   "id": "f7b09322",
   "metadata": {},
   "outputs": [],
   "source": [
    "def des_news_scraping_for_3_month(month,month_name):\n",
    "    url = f\"https://dsebd.org/old_news.php?startDate=2022-{month}-01&endDate=2022-{month}-30&criteria=4&archive=news\"\n",
    "    r = session.get(url)\n",
    "    dse_news = r.html.find(\".table-news\")[0].text\n",
    "    dse_news_lst = dse_news.split('\\n')\n",
    "    trading_code = dse_news_lst[1::8]\n",
    "    news_title = dse_news_lst[3::8]\n",
    "    news = dse_news_lst[5::8]\n",
    "    post_date = dse_news_lst[7::8]\n",
    "    trading_code, news_title, news, post_date = trading_code[:-4], news_title[:-4], news[:-4], post_date[:-3]\n",
    "    print(len(trading_code), len(news_title), len(news), len(post_date))\n",
    "    with open(f\"{month_name}\", \"w\") as f:\n",
    "      f.write(\"No, Trading Code, News Title, News, Post Date\\n\")\n",
    "      for i, t, nt, n, p in zip(range(1, len(trading_code)+1), trading_code, news_title, news, post_date):\n",
    "        f.write(f\"{i}, {t}, {nt}, {n}, {p}\")\n",
    "        f.write('\\n')\n",
    "    return trading_code, news_title, news, post_date"
   ]
  },
  {
   "cell_type": "code",
   "execution_count": 15,
   "id": "b01fe650",
   "metadata": {},
   "outputs": [
    {
     "name": "stdout",
     "output_type": "stream",
     "text": [
      "983 983 983 983\n",
      "801 801 801 801\n",
      "892 892 892 892\n"
     ]
    }
   ],
   "source": [
    "month = {6:\"June\", 7:\"July\", 8:\"August\"}\n",
    "\n",
    "for i,j in month.items():\n",
    "    des_news_scraping_for_3_month(i,j)"
   ]
  },
  {
   "cell_type": "code",
   "execution_count": null,
   "id": "27dc4a6f",
   "metadata": {},
   "outputs": [],
   "source": []
  }
 ],
 "metadata": {
  "kernelspec": {
   "display_name": "Python 3 (ipykernel)",
   "language": "python",
   "name": "python3"
  },
  "language_info": {
   "codemirror_mode": {
    "name": "ipython",
    "version": 3
   },
   "file_extension": ".py",
   "mimetype": "text/x-python",
   "name": "python",
   "nbconvert_exporter": "python",
   "pygments_lexer": "ipython3",
   "version": "3.9.12"
  }
 },
 "nbformat": 4,
 "nbformat_minor": 5
}
