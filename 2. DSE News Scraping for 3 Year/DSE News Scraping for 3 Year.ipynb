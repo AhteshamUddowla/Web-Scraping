{
 "cells": [
  {
   "cell_type": "code",
   "execution_count": 1,
   "id": "12589025",
   "metadata": {},
   "outputs": [],
   "source": [
    "from requests_html import HTMLSession"
   ]
  },
  {
   "cell_type": "code",
   "execution_count": 2,
   "id": "504ba596",
   "metadata": {},
   "outputs": [],
   "source": [
    "session = HTMLSession()"
   ]
  },
  {
   "cell_type": "code",
   "execution_count": 6,
   "id": "da035938",
   "metadata": {},
   "outputs": [],
   "source": [
    "def des_news_scraping_for_3_year(year):\n",
    "    url = f\"https://dsebd.org/old_news.php?startDate={year}-01-01&endDate={year}-12-30&criteria=4&archive=news\"\n",
    "    r = session.get(url)\n",
    "    dse_news = r.html.find(\".table-news\")[0].text\n",
    "    dse_news_lst = dse_news.split('\\n')\n",
    "    trading_code = dse_news_lst[1::8]\n",
    "    news_title = dse_news_lst[3::8]\n",
    "    news = dse_news_lst[5::8]\n",
    "    post_date = dse_news_lst[7::8]\n",
    "    trading_code, news_title, news, post_date = trading_code[:-4], news_title[:-4], news[:-4], post_date[:-3]\n",
    "    print(len(trading_code), len(news_title), len(news), len(post_date))\n",
    "    with open(f\"{year}\", \"w\", encoding=\"utf-8\") as f:\n",
    "      f.write(\"No, Trading Code, News Title, News, Post Date\\n\")\n",
    "      for i, t, nt, n, p in zip(range(1, len(trading_code)+1), trading_code, news_title, news, post_date):\n",
    "        f.write(f\"{i}, {t}, {nt}, {n}, {p}\")\n",
    "        f.write('\\n')\n",
    "    return trading_code, news_title, news, post_date"
   ]
  },
  {
   "cell_type": "code",
   "execution_count": 7,
   "id": "2f703a7a",
   "metadata": {},
   "outputs": [
    {
     "name": "stdout",
     "output_type": "stream",
     "text": [
      "6232 6232 6232 6232\n",
      "16038 16038 16038 16038\n",
      "10039 10039 10039 10039\n"
     ]
    }
   ],
   "source": [
    "year = [2020, 2021, 2022]\n",
    "\n",
    "for i in year:\n",
    "    des_news_scraping_for_3_year(i)"
   ]
  },
  {
   "cell_type": "code",
   "execution_count": null,
   "id": "e34b5ab2",
   "metadata": {},
   "outputs": [],
   "source": []
  }
 ],
 "metadata": {
  "kernelspec": {
   "display_name": "Python 3 (ipykernel)",
   "language": "python",
   "name": "python3"
  },
  "language_info": {
   "codemirror_mode": {
    "name": "ipython",
    "version": 3
   },
   "file_extension": ".py",
   "mimetype": "text/x-python",
   "name": "python",
   "nbconvert_exporter": "python",
   "pygments_lexer": "ipython3",
   "version": "3.9.12"
  }
 },
 "nbformat": 4,
 "nbformat_minor": 5
}
