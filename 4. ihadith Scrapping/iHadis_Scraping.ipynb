{
  "nbformat": 4,
  "nbformat_minor": 0,
  "metadata": {
    "colab": {
      "provenance": [],
      "collapsed_sections": []
    },
    "kernelspec": {
      "name": "python3",
      "display_name": "Python 3"
    },
    "language_info": {
      "name": "python"
    }
  },
  "cells": [
    {
      "cell_type": "code",
      "execution_count": null,
      "metadata": {
        "id": "yw7jz7gS-m8q"
      },
      "outputs": [],
      "source": [
        "!pip install requests-html"
      ]
    },
    {
      "cell_type": "code",
      "source": [
        "from requests_html import HTMLSession\n",
        "session = HTMLSession()"
      ],
      "metadata": {
        "id": "TsbtpV69-wM1"
      },
      "execution_count": null,
      "outputs": []
    },
    {
      "cell_type": "code",
      "source": [
        "def hadith_book_scraping(url, book_name, total_chapter):\n",
        "  for i in range(1, total_chapter+1):\n",
        "    chapter_url = url + book_name + \"/chapter/\" + str(i)\n",
        "    r = session.get(chapter_url)\n",
        "    \n",
        "    no_pattern = \"h3.hidden-print\"\n",
        "    arabic_text_pattern = \"p.hadith-des2\"\n",
        "    bangla_text_pattern = \".hadith-des\"\n",
        "    narrator_pattern = \".narrated-by\"\n",
        "    hadith_status_pattern = \".label.validity\"\n",
        "\n",
        "    numbers = [i.text for i in r.html.find(no_pattern)]\n",
        "    arabic_text = [i.text for i in r.html.find(arabic_text_pattern)]\n",
        "    bangla_text = [i.text for i in r.html.find(bangla_text_pattern)]\n",
        "    narrator = [i.text for i in r.html.find(narrator_pattern)]\n",
        "    hadith_status = [i.text for i in r.html.find(hadith_status_pattern)]\n",
        "\n",
        "    print(\"Charter :\", i, len(numbers), len(arabic_text), len(bangla_text), len(narrator), len(hadith_status))\n",
        "\n",
        "    with open(f\"{book_name}/{book_name}_chapter_{i}\", \"w\") as f:\n",
        "      f.write(\"No., Arabic Text, Bangla Text, Narrator, Hadith Status\\n\")\n",
        "      for n, a, b, na, hs in zip(numbers, arabic_text, bangla_text, narrator, hadith_status):\n",
        "        f.write(f\"{n}, {a}, {b}, {na}, {hs}\")\n",
        "        f.write(\"\\n\")"
      ],
      "metadata": {
        "id": "9IltaeE9-yJR"
      },
      "execution_count": null,
      "outputs": []
    },
    {
      "cell_type": "code",
      "source": [
        "url = \"http://ihadis.com/books/\"\n",
        "books = {\"bukhari\":97, \"muslim\":56, \"nasayi\":50, \"abi-dawud\":43, \"tirmidi\":46, \"ibn-majah\":37, \"muatta-malik\":61}\n",
        "#start_time = time.time()\n",
        "for book_name, total_chapter in books.items():\n",
        "  hadith_book_scraping(url, book_name, total_chapter)\n",
        "#end_time = time.time()\n",
        "#print(end_time-start_time)"
      ],
      "metadata": {
        "id": "ebXH1yfb-04L"
      },
      "execution_count": null,
      "outputs": []
    }
  ]
}